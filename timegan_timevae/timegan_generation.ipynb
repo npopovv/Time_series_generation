{
 "cells": [
  {
   "cell_type": "code",
   "execution_count": 46,
   "metadata": {},
   "outputs": [],
   "source": [
    "## Necessary packages\n",
    "from __future__ import absolute_import\n",
    "from __future__ import division\n",
    "from __future__ import print_function\n",
    "import joblib\n",
    "\n",
    "import numpy as np\n",
    "import warnings\n",
    "warnings.filterwarnings(\"ignore\")\n",
    "\n",
    "# 1. TimeGAN model\n",
    "from timegan import timegan\n",
    "# 2. Data loading\n",
    "from data_loading import real_data_loading, sine_data_generation\n",
    "# 3. Metrics\n",
    "from metrics.discriminative_metrics import discriminative_score_metrics\n",
    "from metrics.predictive_metrics import predictive_score_metrics\n",
    "from metrics.visualization_metrics import visualization"
   ]
  },
  {
   "cell_type": "code",
   "execution_count": 122,
   "metadata": {},
   "outputs": [],
   "source": [
    "seq_len = 30\n",
    "ori_data_gan = real_data_loading('high_frequency_all', seq_len, stock_name = 'ORCL')"
   ]
  },
  {
   "cell_type": "code",
   "execution_count": 123,
   "metadata": {},
   "outputs": [
    {
     "data": {
      "text/plain": [
       "43116"
      ]
     },
     "execution_count": 123,
     "metadata": {},
     "output_type": "execute_result"
    }
   ],
   "source": [
    "len(ori_data_gan)"
   ]
  },
  {
   "cell_type": "code",
   "execution_count": 124,
   "metadata": {},
   "outputs": [],
   "source": [
    "parameters = dict()\n",
    "\n",
    "parameters['module'] = 'gru' \n",
    "parameters['hidden_dim'] = 24\n",
    "parameters['num_layer'] = 3\n",
    "parameters['iterations'] = 1000\n",
    "parameters['batch_size'] = 128"
   ]
  },
  {
   "cell_type": "code",
   "execution_count": 125,
   "metadata": {},
   "outputs": [
    {
     "name": "stdout",
     "output_type": "stream",
     "text": [
      "Start Embedding Network Training\n",
      "step: 0/1000, e_loss: 0.2728\n",
      "Finish Embedding Network Training\n",
      "Start Training with Supervised Loss Only\n",
      "step: 0/1000, s_loss: 0.2503\n",
      "Finish Training with Supervised Loss Only\n",
      "Start Joint Training\n",
      "step: 0/1000, d_loss: 2.5565, g_loss_u: 0.4248, g_loss_s: 0.0223, g_loss_v: 0.3566, e_loss_t0: 0.1052\n",
      "Finish Joint Training\n",
      "Finish Synthetic Data Generation\n"
     ]
    }
   ],
   "source": [
    "# Run TimeGAN\n",
    "generated_data = timegan(ori_data_gan, parameters)   \n",
    "print('Finish Synthetic Data Generation')"
   ]
  },
  {
   "cell_type": "code",
   "execution_count": 126,
   "metadata": {},
   "outputs": [
    {
     "data": {
      "text/plain": [
       "['data/generated_data_ORCL']"
      ]
     },
     "execution_count": 126,
     "metadata": {},
     "output_type": "execute_result"
    }
   ],
   "source": [
    "import joblib\n",
    "joblib.dump(generated_data, 'data/generated_data_ORCL')"
   ]
  }
 ],
 "metadata": {
  "kernelspec": {
   "display_name": "Python 3 (ipykernel)",
   "language": "python",
   "name": "python3"
  },
  "language_info": {
   "codemirror_mode": {
    "name": "ipython",
    "version": 3
   },
   "file_extension": ".py",
   "mimetype": "text/x-python",
   "name": "python",
   "nbconvert_exporter": "python",
   "pygments_lexer": "ipython3",
   "version": "3.10.12"
  }
 },
 "nbformat": 4,
 "nbformat_minor": 4
}
